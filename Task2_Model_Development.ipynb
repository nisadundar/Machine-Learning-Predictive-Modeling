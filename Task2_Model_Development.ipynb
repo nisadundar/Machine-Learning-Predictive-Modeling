{
 "cells": [
  {
   "cell_type": "code",
   "outputs": [],
   "source": [
    "import pandas as pd\n",
    "from sklearn.model_selection import train_test_split\n",
    "from sklearn.ensemble import RandomForestRegressor\n",
    "from sklearn.metrics import mean_squared_error"
   ],
   "metadata": {
    "collapsed": false,
    "ExecuteTime": {
     "end_time": "2024-02-13T16:38:51.658491200Z",
     "start_time": "2024-02-13T16:38:50.534610600Z"
    }
   },
   "id": "888c7e278f4ec718",
   "execution_count": 1
  },
  {
   "cell_type": "code",
   "outputs": [],
   "source": [
    "# Task 1'de oluşturulan DataFrame'i yükle\n",
    "df = pd.read_parquet('data.parquet')"
   ],
   "metadata": {
    "collapsed": false,
    "ExecuteTime": {
     "end_time": "2024-02-13T16:38:51.886543600Z",
     "start_time": "2024-02-13T16:38:51.657440100Z"
    }
   },
   "id": "717389b88090c59d",
   "execution_count": 2
  },
  {
   "cell_type": "code",
   "outputs": [
    {
     "name": "stdout",
     "output_type": "stream",
     "text": [
      "   sensor_1  sensor_2   sensor_3      sensor_4      sensor_5  sensor_6  \\\n",
      "0  1.173118  0.433144  45.065858  4.764415e-44  1.681558e-44  1.080937   \n",
      "1  1.175376  0.431504  45.497771  4.764415e-44  1.681558e-44  1.086173   \n",
      "2  1.176446  0.431121  45.612437  4.764415e-44  1.681558e-44  1.084523   \n",
      "3  1.177426  0.431058  45.525410  4.764415e-44  1.681558e-44  1.086423   \n",
      "4  1.179741  0.431060  45.519249  4.764415e-44  1.681558e-44  1.087997   \n",
      "\n",
      "   sensor_7   sensor_8   sensor_9  sensor_10  ...  sensor_26  sensor_27  \\\n",
      "0  0.302192  44.202452  44.927770  14.722080  ...  81.341904   5.379994   \n",
      "1  0.300779  44.192173  44.918848  14.901550  ...  81.418990   5.380536   \n",
      "2  0.305072  44.178549  44.904863  14.749145  ...  81.486114   5.380397   \n",
      "3  0.306181  44.163901  44.887323  14.769074  ...  81.711042   5.385839   \n",
      "4  0.305608  44.147987  44.865502  14.949945  ...  81.976514   5.389004   \n",
      "\n",
      "   sensor_28  sensor_29  sensor_30      sensor_31  sensor_32  target  \\\n",
      "0   5.361655  80.519969       1.06  106580.806667  19.997620    1.13   \n",
      "1   5.364277  80.521727       1.06  106633.655000  19.938540    1.13   \n",
      "2   5.365029  80.639592       1.06  106671.121667  19.928020    1.13   \n",
      "3   5.368228  80.799388       1.06  106876.776667  19.797218    1.13   \n",
      "4   5.374257  80.963748       1.06  107113.933333  19.843048    1.13   \n",
      "\n",
      "                  timestamp  batch_id  \n",
      "0 2022-09-15 00:00:00+00:00        75  \n",
      "1 2022-09-15 00:01:00+00:00        75  \n",
      "2 2022-09-15 00:02:00+00:00        75  \n",
      "3 2022-09-15 00:03:00+00:00        75  \n",
      "4 2022-09-15 00:04:00+00:00        75  \n",
      "\n",
      "[5 rows x 35 columns]\n"
     ]
    }
   ],
   "source": [
    "# Veri setinin ilk 5 satırını görüntüle\n",
    "print(df.head())"
   ],
   "metadata": {
    "collapsed": false,
    "ExecuteTime": {
     "end_time": "2024-02-13T16:38:51.932759500Z",
     "start_time": "2024-02-13T16:38:51.897101500Z"
    }
   },
   "id": "cc867d769f1b76a2",
   "execution_count": 3
  },
  {
   "cell_type": "code",
   "outputs": [
    {
     "name": "stdout",
     "output_type": "stream",
     "text": [
      "<class 'pandas.core.frame.DataFrame'>\n",
      "RangeIndex: 6845 entries, 0 to 6844\n",
      "Data columns (total 35 columns):\n",
      " #   Column     Non-Null Count  Dtype              \n",
      "---  ------     --------------  -----              \n",
      " 0   sensor_1   6845 non-null   float64            \n",
      " 1   sensor_2   6845 non-null   float64            \n",
      " 2   sensor_3   6845 non-null   float64            \n",
      " 3   sensor_4   6845 non-null   float64            \n",
      " 4   sensor_5   6845 non-null   float64            \n",
      " 5   sensor_6   6845 non-null   float64            \n",
      " 6   sensor_7   6845 non-null   float64            \n",
      " 7   sensor_8   6845 non-null   float64            \n",
      " 8   sensor_9   6845 non-null   float64            \n",
      " 9   sensor_10  6845 non-null   float64            \n",
      " 10  sensor_11  6845 non-null   float64            \n",
      " 11  sensor_12  6845 non-null   float64            \n",
      " 12  sensor_13  6845 non-null   float64            \n",
      " 13  sensor_14  6845 non-null   float64            \n",
      " 14  sensor_15  6845 non-null   float64            \n",
      " 15  sensor_16  6845 non-null   float64            \n",
      " 16  sensor_17  6845 non-null   float64            \n",
      " 17  sensor_18  6845 non-null   float64            \n",
      " 18  sensor_19  6845 non-null   float64            \n",
      " 19  sensor_20  6845 non-null   float64            \n",
      " 20  sensor_21  6845 non-null   float64            \n",
      " 21  sensor_22  6845 non-null   float64            \n",
      " 22  sensor_23  6845 non-null   float64            \n",
      " 23  sensor_24  6845 non-null   float64            \n",
      " 24  sensor_25  6845 non-null   float64            \n",
      " 25  sensor_26  6845 non-null   float64            \n",
      " 26  sensor_27  6845 non-null   float64            \n",
      " 27  sensor_28  6845 non-null   float64            \n",
      " 28  sensor_29  6845 non-null   float64            \n",
      " 29  sensor_30  6845 non-null   float64            \n",
      " 30  sensor_31  6845 non-null   float64            \n",
      " 31  sensor_32  6845 non-null   float64            \n",
      " 32  target     6826 non-null   float64            \n",
      " 33  timestamp  6845 non-null   datetime64[ns, UTC]\n",
      " 34  batch_id   6845 non-null   int64              \n",
      "dtypes: datetime64[ns, UTC](1), float64(33), int64(1)\n",
      "memory usage: 1.8 MB\n",
      "None\n"
     ]
    }
   ],
   "source": [
    "# Veri setinin genel bilgilerini görüntüle\n",
    "print(df.info())"
   ],
   "metadata": {
    "collapsed": false,
    "ExecuteTime": {
     "end_time": "2024-02-13T16:38:52.096180400Z",
     "start_time": "2024-02-13T16:38:51.932759500Z"
    }
   },
   "id": "65b754c664c95c34",
   "execution_count": 4
  },
  {
   "cell_type": "code",
   "outputs": [
    {
     "name": "stdout",
     "output_type": "stream",
     "text": [
      "sensor_1      0\n",
      "sensor_2      0\n",
      "sensor_3      0\n",
      "sensor_4      0\n",
      "sensor_5      0\n",
      "sensor_6      0\n",
      "sensor_7      0\n",
      "sensor_8      0\n",
      "sensor_9      0\n",
      "sensor_10     0\n",
      "sensor_11     0\n",
      "sensor_12     0\n",
      "sensor_13     0\n",
      "sensor_14     0\n",
      "sensor_15     0\n",
      "sensor_16     0\n",
      "sensor_17     0\n",
      "sensor_18     0\n",
      "sensor_19     0\n",
      "sensor_20     0\n",
      "sensor_21     0\n",
      "sensor_22     0\n",
      "sensor_23     0\n",
      "sensor_24     0\n",
      "sensor_25     0\n",
      "sensor_26     0\n",
      "sensor_27     0\n",
      "sensor_28     0\n",
      "sensor_29     0\n",
      "sensor_30     0\n",
      "sensor_31     0\n",
      "sensor_32     0\n",
      "target       19\n",
      "timestamp     0\n",
      "batch_id      0\n",
      "dtype: int64\n"
     ]
    }
   ],
   "source": [
    "# Eksik değerleri kontrol et\n",
    "print(df.isnull().sum())"
   ],
   "metadata": {
    "collapsed": false,
    "ExecuteTime": {
     "end_time": "2024-02-13T16:38:52.099183300Z",
     "start_time": "2024-02-13T16:38:51.965391600Z"
    }
   },
   "id": "f1e2a4c03860d2fd",
   "execution_count": 5
  },
  {
   "cell_type": "code",
   "outputs": [],
   "source": [
    "# Eksik değerleri doldurma ortalama ile\n",
    "mean_y = df['target'].mean()\n",
    "df['target'].fillna(mean_y, inplace=True)"
   ],
   "metadata": {
    "collapsed": false,
    "ExecuteTime": {
     "end_time": "2024-02-13T16:38:52.113229500Z",
     "start_time": "2024-02-13T16:38:51.980432400Z"
    }
   },
   "id": "510df7711ecc783f",
   "execution_count": 6
  },
  {
   "cell_type": "code",
   "outputs": [
    {
     "name": "stdout",
     "output_type": "stream",
     "text": [
      "sensor_1     0\n",
      "sensor_2     0\n",
      "sensor_3     0\n",
      "sensor_4     0\n",
      "sensor_5     0\n",
      "sensor_6     0\n",
      "sensor_7     0\n",
      "sensor_8     0\n",
      "sensor_9     0\n",
      "sensor_10    0\n",
      "sensor_11    0\n",
      "sensor_12    0\n",
      "sensor_13    0\n",
      "sensor_14    0\n",
      "sensor_15    0\n",
      "sensor_16    0\n",
      "sensor_17    0\n",
      "sensor_18    0\n",
      "sensor_19    0\n",
      "sensor_20    0\n",
      "sensor_21    0\n",
      "sensor_22    0\n",
      "sensor_23    0\n",
      "sensor_24    0\n",
      "sensor_25    0\n",
      "sensor_26    0\n",
      "sensor_27    0\n",
      "sensor_28    0\n",
      "sensor_29    0\n",
      "sensor_30    0\n",
      "sensor_31    0\n",
      "sensor_32    0\n",
      "target       0\n",
      "timestamp    0\n",
      "batch_id     0\n",
      "dtype: int64\n"
     ]
    }
   ],
   "source": [
    "# Eksik değerleri kontrol et (tekrar)\n",
    "print(df.isnull().sum())"
   ],
   "metadata": {
    "collapsed": false,
    "ExecuteTime": {
     "end_time": "2024-02-13T16:38:52.190543100Z",
     "start_time": "2024-02-13T16:38:51.992384100Z"
    }
   },
   "id": "7f6f8cb35160233b",
   "execution_count": 7
  },
  {
   "cell_type": "code",
   "outputs": [],
   "source": [
    "# Yıl, ay ve gün değerlerini ayrı sütunlara ayırma\n",
    "df['yil'] = df['timestamp'].dt.year\n",
    "df['ay'] = df['timestamp'].dt.month\n",
    "df['gun'] = df['timestamp'].dt.day"
   ],
   "metadata": {
    "collapsed": false,
    "ExecuteTime": {
     "end_time": "2024-02-13T16:38:52.198346400Z",
     "start_time": "2024-02-13T16:38:52.005325700Z"
    }
   },
   "id": "eb322d337f2a52cc",
   "execution_count": 8
  },
  {
   "cell_type": "code",
   "outputs": [],
   "source": [
    "# 'timestamp' sütununu silme\n",
    "df.drop('timestamp', axis=1, inplace=True)"
   ],
   "metadata": {
    "collapsed": false,
    "ExecuteTime": {
     "end_time": "2024-02-13T16:38:52.202851800Z",
     "start_time": "2024-02-13T16:38:52.024845Z"
    }
   },
   "id": "9e35944c66d3d2a1",
   "execution_count": 9
  },
  {
   "cell_type": "code",
   "outputs": [],
   "source": [
    "# Bağımsız değişkenler (X) ve bağımlı değişken (y) ayrıştırma\n",
    "X = df.drop('target', axis=1)\n",
    "y = df['target']"
   ],
   "metadata": {
    "collapsed": false,
    "ExecuteTime": {
     "end_time": "2024-02-13T16:38:52.207868100Z",
     "start_time": "2024-02-13T16:38:52.036995800Z"
    }
   },
   "id": "f14162fc8e19734d",
   "execution_count": 10
  },
  {
   "cell_type": "code",
   "outputs": [],
   "source": [
    "from sklearn.model_selection import train_test_split\n",
    "\n",
    "# Veriyi eğitim ve test kümelerine bölme (80% eğitim, 20% test)\n",
    "X_train, X_test, y_train, y_test = train_test_split(X, y, test_size=0.2, random_state=42)"
   ],
   "metadata": {
    "collapsed": false,
    "ExecuteTime": {
     "end_time": "2024-02-13T16:42:03.298159300Z",
     "start_time": "2024-02-13T16:42:03.238873400Z"
    }
   },
   "id": "f2f61c1c641463dd",
   "execution_count": 22
  },
  {
   "cell_type": "code",
   "outputs": [
    {
     "data": {
      "text/plain": "RandomForestRegressor(random_state=42)",
      "text/html": "<style>#sk-container-id-1 {color: black;background-color: white;}#sk-container-id-1 pre{padding: 0;}#sk-container-id-1 div.sk-toggleable {background-color: white;}#sk-container-id-1 label.sk-toggleable__label {cursor: pointer;display: block;width: 100%;margin-bottom: 0;padding: 0.3em;box-sizing: border-box;text-align: center;}#sk-container-id-1 label.sk-toggleable__label-arrow:before {content: \"▸\";float: left;margin-right: 0.25em;color: #696969;}#sk-container-id-1 label.sk-toggleable__label-arrow:hover:before {color: black;}#sk-container-id-1 div.sk-estimator:hover label.sk-toggleable__label-arrow:before {color: black;}#sk-container-id-1 div.sk-toggleable__content {max-height: 0;max-width: 0;overflow: hidden;text-align: left;background-color: #f0f8ff;}#sk-container-id-1 div.sk-toggleable__content pre {margin: 0.2em;color: black;border-radius: 0.25em;background-color: #f0f8ff;}#sk-container-id-1 input.sk-toggleable__control:checked~div.sk-toggleable__content {max-height: 200px;max-width: 100%;overflow: auto;}#sk-container-id-1 input.sk-toggleable__control:checked~label.sk-toggleable__label-arrow:before {content: \"▾\";}#sk-container-id-1 div.sk-estimator input.sk-toggleable__control:checked~label.sk-toggleable__label {background-color: #d4ebff;}#sk-container-id-1 div.sk-label input.sk-toggleable__control:checked~label.sk-toggleable__label {background-color: #d4ebff;}#sk-container-id-1 input.sk-hidden--visually {border: 0;clip: rect(1px 1px 1px 1px);clip: rect(1px, 1px, 1px, 1px);height: 1px;margin: -1px;overflow: hidden;padding: 0;position: absolute;width: 1px;}#sk-container-id-1 div.sk-estimator {font-family: monospace;background-color: #f0f8ff;border: 1px dotted black;border-radius: 0.25em;box-sizing: border-box;margin-bottom: 0.5em;}#sk-container-id-1 div.sk-estimator:hover {background-color: #d4ebff;}#sk-container-id-1 div.sk-parallel-item::after {content: \"\";width: 100%;border-bottom: 1px solid gray;flex-grow: 1;}#sk-container-id-1 div.sk-label:hover label.sk-toggleable__label {background-color: #d4ebff;}#sk-container-id-1 div.sk-serial::before {content: \"\";position: absolute;border-left: 1px solid gray;box-sizing: border-box;top: 0;bottom: 0;left: 50%;z-index: 0;}#sk-container-id-1 div.sk-serial {display: flex;flex-direction: column;align-items: center;background-color: white;padding-right: 0.2em;padding-left: 0.2em;position: relative;}#sk-container-id-1 div.sk-item {position: relative;z-index: 1;}#sk-container-id-1 div.sk-parallel {display: flex;align-items: stretch;justify-content: center;background-color: white;position: relative;}#sk-container-id-1 div.sk-item::before, #sk-container-id-1 div.sk-parallel-item::before {content: \"\";position: absolute;border-left: 1px solid gray;box-sizing: border-box;top: 0;bottom: 0;left: 50%;z-index: -1;}#sk-container-id-1 div.sk-parallel-item {display: flex;flex-direction: column;z-index: 1;position: relative;background-color: white;}#sk-container-id-1 div.sk-parallel-item:first-child::after {align-self: flex-end;width: 50%;}#sk-container-id-1 div.sk-parallel-item:last-child::after {align-self: flex-start;width: 50%;}#sk-container-id-1 div.sk-parallel-item:only-child::after {width: 0;}#sk-container-id-1 div.sk-dashed-wrapped {border: 1px dashed gray;margin: 0 0.4em 0.5em 0.4em;box-sizing: border-box;padding-bottom: 0.4em;background-color: white;}#sk-container-id-1 div.sk-label label {font-family: monospace;font-weight: bold;display: inline-block;line-height: 1.2em;}#sk-container-id-1 div.sk-label-container {text-align: center;}#sk-container-id-1 div.sk-container {/* jupyter's `normalize.less` sets `[hidden] { display: none; }` but bootstrap.min.css set `[hidden] { display: none !important; }` so we also need the `!important` here to be able to override the default hidden behavior on the sphinx rendered scikit-learn.org. See: https://github.com/scikit-learn/scikit-learn/issues/21755 */display: inline-block !important;position: relative;}#sk-container-id-1 div.sk-text-repr-fallback {display: none;}</style><div id=\"sk-container-id-1\" class=\"sk-top-container\"><div class=\"sk-text-repr-fallback\"><pre>RandomForestRegressor(random_state=42)</pre><b>In a Jupyter environment, please rerun this cell to show the HTML representation or trust the notebook. <br />On GitHub, the HTML representation is unable to render, please try loading this page with nbviewer.org.</b></div><div class=\"sk-container\" hidden><div class=\"sk-item\"><div class=\"sk-estimator sk-toggleable\"><input class=\"sk-toggleable__control sk-hidden--visually\" id=\"sk-estimator-id-1\" type=\"checkbox\" checked><label for=\"sk-estimator-id-1\" class=\"sk-toggleable__label sk-toggleable__label-arrow\">RandomForestRegressor</label><div class=\"sk-toggleable__content\"><pre>RandomForestRegressor(random_state=42)</pre></div></div></div></div></div>"
     },
     "execution_count": 12,
     "metadata": {},
     "output_type": "execute_result"
    }
   ],
   "source": [
    "from sklearn.ensemble import RandomForestRegressor\n",
    "\n",
    "# Rastgele Orman modeli oluşturma\n",
    "model = RandomForestRegressor(n_estimators=100, random_state=42)\n",
    "\n",
    "# Modeli eğitim verisi ile eğitme\n",
    "model.fit(X_train, y_train)"
   ],
   "metadata": {
    "collapsed": false,
    "ExecuteTime": {
     "end_time": "2024-02-13T16:39:20.075276600Z",
     "start_time": "2024-02-13T16:38:52.078699Z"
    }
   },
   "id": "d8626507458c84e0",
   "execution_count": 12
  },
  {
   "cell_type": "code",
   "outputs": [],
   "source": [
    "# datetime64 değeri\n",
    "datetime64_value = pd.to_datetime('2022-09-15 00:00:00+00:00')"
   ],
   "metadata": {
    "collapsed": false,
    "ExecuteTime": {
     "end_time": "2024-02-13T16:39:20.080249600Z",
     "start_time": "2024-02-13T16:39:20.070161900Z"
    }
   },
   "id": "6f36a370c8711605",
   "execution_count": 13
  },
  {
   "cell_type": "code",
   "outputs": [],
   "source": [
    "# Unix zamanına (timestamp) çevirme ve integer değere dönüştürme\n",
    "timestamp_value = int(datetime64_value.timestamp())"
   ],
   "metadata": {
    "collapsed": false,
    "ExecuteTime": {
     "end_time": "2024-02-13T16:39:20.085399900Z",
     "start_time": "2024-02-13T16:39:20.082378700Z"
    }
   },
   "id": "7c1e2b7fbadc9558",
   "execution_count": 14
  },
  {
   "cell_type": "code",
   "outputs": [
    {
     "name": "stdout",
     "output_type": "stream",
     "text": [
      "1663200000\n"
     ]
    }
   ],
   "source": [
    "print(timestamp_value)  # Integer değer olarak Unix zamanı"
   ],
   "metadata": {
    "collapsed": false,
    "ExecuteTime": {
     "end_time": "2024-02-13T16:39:20.127736900Z",
     "start_time": "2024-02-13T16:39:20.089830400Z"
    }
   },
   "id": "494f34c768c72e8b",
   "execution_count": 15
  },
  {
   "cell_type": "code",
   "outputs": [
    {
     "name": "stdout",
     "output_type": "stream",
     "text": [
      "1663200000\n"
     ]
    }
   ],
   "source": [
    "print(timestamp_value)  # Integer değer olarak Unix zamanı"
   ],
   "metadata": {
    "collapsed": false,
    "ExecuteTime": {
     "end_time": "2024-02-13T16:39:20.131264300Z",
     "start_time": "2024-02-13T16:39:20.094725300Z"
    }
   },
   "id": "3df2892619284a65",
   "execution_count": 16
  },
  {
   "cell_type": "code",
   "outputs": [
    {
     "name": "stdout",
     "output_type": "stream",
     "text": [
      "Mean Squared Error: 0.003039716282527753\n"
     ]
    }
   ],
   "source": [
    "from sklearn.metrics import mean_squared_error\n",
    "\n",
    "# Tahminleri oluşturma\n",
    "y_pred = model.predict(X_test)\n",
    "\n",
    "# Ortalama karesel hatayı hesaplama\n",
    "mse = mean_squared_error(y_test, y_pred)\n",
    "\n",
    "# Modelin performansını yazdırma\n",
    "print(\"Mean Squared Error:\", mse)"
   ],
   "metadata": {
    "collapsed": false,
    "ExecuteTime": {
     "end_time": "2024-02-13T16:39:20.244703500Z",
     "start_time": "2024-02-13T16:39:20.105697100Z"
    }
   },
   "id": "fd9215b0347c4006",
   "execution_count": 17
  },
  {
   "cell_type": "code",
   "outputs": [
    {
     "data": {
      "text/plain": "['random_forest_model.pkl']"
     },
     "execution_count": 18,
     "metadata": {},
     "output_type": "execute_result"
    }
   ],
   "source": [
    "import joblib\n",
    "# En iyi modeli kaydetme\n",
    "joblib.dump(model, 'random_forest_model.pkl', protocol=2)"
   ],
   "metadata": {
    "collapsed": false,
    "ExecuteTime": {
     "end_time": "2024-02-13T16:39:20.300444400Z",
     "start_time": "2024-02-13T16:39:20.175562300Z"
    }
   },
   "id": "b40fc21762a9a457",
   "execution_count": 18
  },
  {
   "cell_type": "code",
   "outputs": [],
   "source": [
    "# kaydedilen modeli yükleme\n",
    "model = joblib.load('random_forest_model.pkl')"
   ],
   "metadata": {
    "collapsed": false,
    "ExecuteTime": {
     "end_time": "2024-02-13T16:39:20.354005200Z",
     "start_time": "2024-02-13T16:39:20.260777400Z"
    }
   },
   "id": "60f93928bafd4505",
   "execution_count": 19
  },
  {
   "cell_type": "code",
   "outputs": [
    {
     "name": "stdout",
     "output_type": "stream",
     "text": [
      "Dosya bulundu.\n",
      "Dosya okunabilir.\n"
     ]
    }
   ],
   "source": [
    "import os\n",
    "\n",
    "file_path = 'random_forest_model.pkl'\n",
    "if os.path.exists(file_path):\n",
    "    print(\"Dosya bulundu.\")\n",
    "    if os.access(file_path, os.R_OK):\n",
    "        print(\"Dosya okunabilir.\")\n",
    "    else:\n",
    "        print(\"Dosya okunabilir değil.\")\n",
    "else:\n",
    "    print(\"Dosya bulunamadı.\")\n"
   ],
   "metadata": {
    "collapsed": false,
    "ExecuteTime": {
     "end_time": "2024-02-13T16:39:20.362338200Z",
     "start_time": "2024-02-13T16:39:20.346137Z"
    }
   },
   "id": "eed2921153758a2a",
   "execution_count": 20
  }
 ],
 "metadata": {
  "kernelspec": {
   "display_name": "Python 3",
   "language": "python",
   "name": "python3"
  },
  "language_info": {
   "codemirror_mode": {
    "name": "ipython",
    "version": 2
   },
   "file_extension": ".py",
   "mimetype": "text/x-python",
   "name": "python",
   "nbconvert_exporter": "python",
   "pygments_lexer": "ipython2",
   "version": "2.7.6"
  }
 },
 "nbformat": 4,
 "nbformat_minor": 5
}
